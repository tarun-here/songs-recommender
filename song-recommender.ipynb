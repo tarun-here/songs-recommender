{
 "cells": [
  {
   "cell_type": "code",
   "execution_count": 1,
   "id": "4b691ca5",
   "metadata": {},
   "outputs": [],
   "source": [
    "import numpy as np\n",
    "import pandas as pd\n",
    "import seaborn as sns\n",
    "import os"
   ]
  },
  {
   "cell_type": "code",
   "execution_count": 2,
   "id": "8be91f15",
   "metadata": {},
   "outputs": [],
   "source": [
    "Songs_df1 = pd.read_csv('~/Desktop/reccomendation_data.csv')"
   ]
  },
  {
   "cell_type": "code",
   "execution_count": 3,
   "id": "cc1c28a2",
   "metadata": {},
   "outputs": [
    {
     "data": {
      "text/html": [
       "<div>\n",
       "<style scoped>\n",
       "    .dataframe tbody tr th:only-of-type {\n",
       "        vertical-align: middle;\n",
       "    }\n",
       "\n",
       "    .dataframe tbody tr th {\n",
       "        vertical-align: top;\n",
       "    }\n",
       "\n",
       "    .dataframe thead th {\n",
       "        text-align: right;\n",
       "    }\n",
       "</style>\n",
       "<table border=\"1\" class=\"dataframe\">\n",
       "  <thead>\n",
       "    <tr style=\"text-align: right;\">\n",
       "      <th></th>\n",
       "      <th>name</th>\n",
       "      <th>artist</th>\n",
       "      <th>spotify_id</th>\n",
       "      <th>preview</th>\n",
       "      <th>img</th>\n",
       "      <th>danceability</th>\n",
       "      <th>energy</th>\n",
       "      <th>loudness</th>\n",
       "      <th>speechiness</th>\n",
       "      <th>acousticness</th>\n",
       "      <th>instrumentalness</th>\n",
       "      <th>liveness</th>\n",
       "      <th>valence</th>\n",
       "      <th>acousticness_artist</th>\n",
       "      <th>danceability_artist</th>\n",
       "      <th>energy_artist</th>\n",
       "      <th>instrumentalness_artist</th>\n",
       "      <th>liveness_artist</th>\n",
       "      <th>speechiness_artist</th>\n",
       "      <th>valence_artist</th>\n",
       "    </tr>\n",
       "  </thead>\n",
       "  <tbody>\n",
       "    <tr>\n",
       "      <th>0</th>\n",
       "      <td>Mood (feat. iann dior)</td>\n",
       "      <td>24kGoldn</td>\n",
       "      <td>3tjFYV6RSFtuktYl3ZtYcq</td>\n",
       "      <td>https://p.scdn.co/mp3-preview/45cb08fdb67744ab...</td>\n",
       "      <td>https://i.scdn.co/image/ab67616d0000b273ff8c98...</td>\n",
       "      <td>0.700</td>\n",
       "      <td>0.722</td>\n",
       "      <td>-3.558</td>\n",
       "      <td>0.0369</td>\n",
       "      <td>0.22100</td>\n",
       "      <td>0.000000</td>\n",
       "      <td>0.2720</td>\n",
       "      <td>0.756</td>\n",
       "      <td>0.118269</td>\n",
       "      <td>0.731588</td>\n",
       "      <td>0.681235</td>\n",
       "      <td>0.000002</td>\n",
       "      <td>0.160000</td>\n",
       "      <td>0.123765</td>\n",
       "      <td>0.566824</td>\n",
       "    </tr>\n",
       "    <tr>\n",
       "      <th>1</th>\n",
       "      <td>Blinding Lights</td>\n",
       "      <td>The Weeknd</td>\n",
       "      <td>0VjIjW4GlUZAMYd2vXMi3b</td>\n",
       "      <td>NaN</td>\n",
       "      <td>https://i.scdn.co/image/ab67616d0000b2738863bc...</td>\n",
       "      <td>0.514</td>\n",
       "      <td>0.730</td>\n",
       "      <td>-5.934</td>\n",
       "      <td>0.0598</td>\n",
       "      <td>0.00146</td>\n",
       "      <td>0.000095</td>\n",
       "      <td>0.0897</td>\n",
       "      <td>0.334</td>\n",
       "      <td>0.271439</td>\n",
       "      <td>0.574808</td>\n",
       "      <td>0.607873</td>\n",
       "      <td>0.010594</td>\n",
       "      <td>0.201728</td>\n",
       "      <td>0.086811</td>\n",
       "      <td>0.305189</td>\n",
       "    </tr>\n",
       "    <tr>\n",
       "      <th>2</th>\n",
       "      <td>Dynamite</td>\n",
       "      <td>BTS</td>\n",
       "      <td>0t1kP63rueHleOhQkYSXFY</td>\n",
       "      <td>https://p.scdn.co/mp3-preview/a707728846c105f4...</td>\n",
       "      <td>https://i.scdn.co/image/ab67616d0000b273755995...</td>\n",
       "      <td>0.746</td>\n",
       "      <td>0.765</td>\n",
       "      <td>-4.410</td>\n",
       "      <td>0.0993</td>\n",
       "      <td>0.01120</td>\n",
       "      <td>0.000000</td>\n",
       "      <td>0.0936</td>\n",
       "      <td>0.737</td>\n",
       "      <td>0.099350</td>\n",
       "      <td>0.614798</td>\n",
       "      <td>0.786452</td>\n",
       "      <td>0.000044</td>\n",
       "      <td>0.202608</td>\n",
       "      <td>0.128515</td>\n",
       "      <td>0.533369</td>\n",
       "    </tr>\n",
       "    <tr>\n",
       "      <th>3</th>\n",
       "      <td>ROCKSTAR (feat. Roddy Ricch)</td>\n",
       "      <td>DaBaby</td>\n",
       "      <td>7ytR5pFWmSjzHJIeQkgog4</td>\n",
       "      <td>NaN</td>\n",
       "      <td>https://i.scdn.co/image/ab67616d0000b27320e08c...</td>\n",
       "      <td>0.746</td>\n",
       "      <td>0.690</td>\n",
       "      <td>-7.956</td>\n",
       "      <td>0.1640</td>\n",
       "      <td>0.24700</td>\n",
       "      <td>0.000000</td>\n",
       "      <td>0.1010</td>\n",
       "      <td>0.497</td>\n",
       "      <td>0.093113</td>\n",
       "      <td>0.829283</td>\n",
       "      <td>0.657626</td>\n",
       "      <td>0.000002</td>\n",
       "      <td>0.170425</td>\n",
       "      <td>0.284725</td>\n",
       "      <td>0.629374</td>\n",
       "    </tr>\n",
       "    <tr>\n",
       "      <th>4</th>\n",
       "      <td>For The Night (feat. Lil Baby &amp; DaBaby)</td>\n",
       "      <td>Pop Smoke</td>\n",
       "      <td>0PvFJmanyNQMseIFrU708S</td>\n",
       "      <td>NaN</td>\n",
       "      <td>https://i.scdn.co/image/ab67616d0000b27377ada0...</td>\n",
       "      <td>0.823</td>\n",
       "      <td>0.586</td>\n",
       "      <td>-6.606</td>\n",
       "      <td>0.2000</td>\n",
       "      <td>0.11400</td>\n",
       "      <td>0.000000</td>\n",
       "      <td>0.1930</td>\n",
       "      <td>0.347</td>\n",
       "      <td>0.191520</td>\n",
       "      <td>0.675143</td>\n",
       "      <td>0.702686</td>\n",
       "      <td>0.000194</td>\n",
       "      <td>0.247669</td>\n",
       "      <td>0.280103</td>\n",
       "      <td>0.490229</td>\n",
       "    </tr>\n",
       "  </tbody>\n",
       "</table>\n",
       "</div>"
      ],
      "text/plain": [
       "                                      name      artist  \\\n",
       "0                   Mood (feat. iann dior)    24kGoldn   \n",
       "1                          Blinding Lights  The Weeknd   \n",
       "2                                 Dynamite         BTS   \n",
       "3             ROCKSTAR (feat. Roddy Ricch)      DaBaby   \n",
       "4  For The Night (feat. Lil Baby & DaBaby)   Pop Smoke   \n",
       "\n",
       "               spotify_id                                            preview  \\\n",
       "0  3tjFYV6RSFtuktYl3ZtYcq  https://p.scdn.co/mp3-preview/45cb08fdb67744ab...   \n",
       "1  0VjIjW4GlUZAMYd2vXMi3b                                                NaN   \n",
       "2  0t1kP63rueHleOhQkYSXFY  https://p.scdn.co/mp3-preview/a707728846c105f4...   \n",
       "3  7ytR5pFWmSjzHJIeQkgog4                                                NaN   \n",
       "4  0PvFJmanyNQMseIFrU708S                                                NaN   \n",
       "\n",
       "                                                 img  danceability  energy  \\\n",
       "0  https://i.scdn.co/image/ab67616d0000b273ff8c98...         0.700   0.722   \n",
       "1  https://i.scdn.co/image/ab67616d0000b2738863bc...         0.514   0.730   \n",
       "2  https://i.scdn.co/image/ab67616d0000b273755995...         0.746   0.765   \n",
       "3  https://i.scdn.co/image/ab67616d0000b27320e08c...         0.746   0.690   \n",
       "4  https://i.scdn.co/image/ab67616d0000b27377ada0...         0.823   0.586   \n",
       "\n",
       "   loudness  speechiness  acousticness  instrumentalness  liveness  valence  \\\n",
       "0    -3.558       0.0369       0.22100          0.000000    0.2720    0.756   \n",
       "1    -5.934       0.0598       0.00146          0.000095    0.0897    0.334   \n",
       "2    -4.410       0.0993       0.01120          0.000000    0.0936    0.737   \n",
       "3    -7.956       0.1640       0.24700          0.000000    0.1010    0.497   \n",
       "4    -6.606       0.2000       0.11400          0.000000    0.1930    0.347   \n",
       "\n",
       "   acousticness_artist  danceability_artist  energy_artist  \\\n",
       "0             0.118269             0.731588       0.681235   \n",
       "1             0.271439             0.574808       0.607873   \n",
       "2             0.099350             0.614798       0.786452   \n",
       "3             0.093113             0.829283       0.657626   \n",
       "4             0.191520             0.675143       0.702686   \n",
       "\n",
       "   instrumentalness_artist  liveness_artist  speechiness_artist  \\\n",
       "0                 0.000002         0.160000            0.123765   \n",
       "1                 0.010594         0.201728            0.086811   \n",
       "2                 0.000044         0.202608            0.128515   \n",
       "3                 0.000002         0.170425            0.284725   \n",
       "4                 0.000194         0.247669            0.280103   \n",
       "\n",
       "   valence_artist  \n",
       "0        0.566824  \n",
       "1        0.305189  \n",
       "2        0.533369  \n",
       "3        0.629374  \n",
       "4        0.490229  "
      ]
     },
     "execution_count": 3,
     "metadata": {},
     "output_type": "execute_result"
    }
   ],
   "source": [
    "Songs_df1.head()"
   ]
  },
  {
   "cell_type": "code",
   "execution_count": 4,
   "id": "faaa388a",
   "metadata": {},
   "outputs": [
    {
     "data": {
      "text/plain": [
       "(65795, 20)"
      ]
     },
     "execution_count": 4,
     "metadata": {},
     "output_type": "execute_result"
    }
   ],
   "source": [
    "Songs_df1.shape"
   ]
  },
  {
   "cell_type": "code",
   "execution_count": 5,
   "id": "6321af9f",
   "metadata": {},
   "outputs": [
    {
     "name": "stdout",
     "output_type": "stream",
     "text": [
      "<class 'pandas.core.frame.DataFrame'>\n",
      "RangeIndex: 65795 entries, 0 to 65794\n",
      "Data columns (total 20 columns):\n",
      " #   Column                   Non-Null Count  Dtype  \n",
      "---  ------                   --------------  -----  \n",
      " 0   name                     65795 non-null  object \n",
      " 1   artist                   65793 non-null  object \n",
      " 2   spotify_id               65794 non-null  object \n",
      " 3   preview                  47398 non-null  object \n",
      " 4   img                      65791 non-null  object \n",
      " 5   danceability             65795 non-null  float64\n",
      " 6   energy                   65795 non-null  float64\n",
      " 7   loudness                 65795 non-null  float64\n",
      " 8   speechiness              65795 non-null  float64\n",
      " 9   acousticness             65795 non-null  float64\n",
      " 10  instrumentalness         65795 non-null  float64\n",
      " 11  liveness                 65795 non-null  float64\n",
      " 12  valence                  65795 non-null  float64\n",
      " 13  acousticness_artist      65795 non-null  float64\n",
      " 14  danceability_artist      65795 non-null  float64\n",
      " 15  energy_artist            65795 non-null  float64\n",
      " 16  instrumentalness_artist  65795 non-null  float64\n",
      " 17  liveness_artist          65795 non-null  float64\n",
      " 18  speechiness_artist       65795 non-null  float64\n",
      " 19  valence_artist           65795 non-null  float64\n",
      "dtypes: float64(15), object(5)\n",
      "memory usage: 10.0+ MB\n"
     ]
    }
   ],
   "source": [
    "Songs_df1.info()"
   ]
  },
  {
   "cell_type": "code",
   "execution_count": 6,
   "id": "0a9ddf9b",
   "metadata": {},
   "outputs": [
    {
     "data": {
      "text/plain": [
       "Home                                         29\n",
       "You                                          25\n",
       "Stay                                         22\n",
       "Forever                                      21\n",
       "Summertime                                   21\n",
       "                                             ..\n",
       "Divine / Sailing / Time / Hymn - Acoustic     1\n",
       "OG Bobby Johnson                              1\n",
       "Live Like We're Dying                         1\n",
       "Lie, Cheat, Steal                             1\n",
       "Patricia                                      1\n",
       "Name: name, Length: 56924, dtype: int64"
      ]
     },
     "execution_count": 6,
     "metadata": {},
     "output_type": "execute_result"
    }
   ],
   "source": [
    "Songs_df1.name.value_counts()"
   ]
  },
  {
   "cell_type": "code",
   "execution_count": 7,
   "id": "77ec1119",
   "metadata": {},
   "outputs": [
    {
     "data": {
      "text/html": [
       "<div>\n",
       "<style scoped>\n",
       "    .dataframe tbody tr th:only-of-type {\n",
       "        vertical-align: middle;\n",
       "    }\n",
       "\n",
       "    .dataframe tbody tr th {\n",
       "        vertical-align: top;\n",
       "    }\n",
       "\n",
       "    .dataframe thead th {\n",
       "        text-align: right;\n",
       "    }\n",
       "</style>\n",
       "<table border=\"1\" class=\"dataframe\">\n",
       "  <thead>\n",
       "    <tr style=\"text-align: right;\">\n",
       "      <th></th>\n",
       "      <th>danceability</th>\n",
       "      <th>energy</th>\n",
       "      <th>loudness</th>\n",
       "      <th>speechiness</th>\n",
       "      <th>acousticness</th>\n",
       "      <th>instrumentalness</th>\n",
       "      <th>liveness</th>\n",
       "      <th>valence</th>\n",
       "      <th>acousticness_artist</th>\n",
       "      <th>danceability_artist</th>\n",
       "      <th>energy_artist</th>\n",
       "      <th>instrumentalness_artist</th>\n",
       "      <th>liveness_artist</th>\n",
       "      <th>speechiness_artist</th>\n",
       "      <th>valence_artist</th>\n",
       "    </tr>\n",
       "  </thead>\n",
       "  <tbody>\n",
       "    <tr>\n",
       "      <th>count</th>\n",
       "      <td>65795.000000</td>\n",
       "      <td>65795.000000</td>\n",
       "      <td>65795.000000</td>\n",
       "      <td>65795.000000</td>\n",
       "      <td>65795.000000</td>\n",
       "      <td>65795.000000</td>\n",
       "      <td>65795.000000</td>\n",
       "      <td>65795.000000</td>\n",
       "      <td>65795.000000</td>\n",
       "      <td>65795.000000</td>\n",
       "      <td>65795.000000</td>\n",
       "      <td>65795.000000</td>\n",
       "      <td>65795.000000</td>\n",
       "      <td>65795.000000</td>\n",
       "      <td>65795.000000</td>\n",
       "    </tr>\n",
       "    <tr>\n",
       "      <th>mean</th>\n",
       "      <td>0.576662</td>\n",
       "      <td>0.609946</td>\n",
       "      <td>-8.681578</td>\n",
       "      <td>0.084355</td>\n",
       "      <td>0.294222</td>\n",
       "      <td>0.086966</td>\n",
       "      <td>0.191483</td>\n",
       "      <td>0.521332</td>\n",
       "      <td>0.306189</td>\n",
       "      <td>0.571876</td>\n",
       "      <td>0.606332</td>\n",
       "      <td>0.094052</td>\n",
       "      <td>0.196960</td>\n",
       "      <td>0.086035</td>\n",
       "      <td>0.521741</td>\n",
       "    </tr>\n",
       "    <tr>\n",
       "      <th>std</th>\n",
       "      <td>0.174625</td>\n",
       "      <td>0.238326</td>\n",
       "      <td>4.897527</td>\n",
       "      <td>0.094974</td>\n",
       "      <td>0.307060</td>\n",
       "      <td>0.234716</td>\n",
       "      <td>0.162748</td>\n",
       "      <td>0.257017</td>\n",
       "      <td>0.260863</td>\n",
       "      <td>0.139913</td>\n",
       "      <td>0.196086</td>\n",
       "      <td>0.203391</td>\n",
       "      <td>0.087630</td>\n",
       "      <td>0.076547</td>\n",
       "      <td>0.187102</td>\n",
       "    </tr>\n",
       "    <tr>\n",
       "      <th>min</th>\n",
       "      <td>-1.000000</td>\n",
       "      <td>-1.000000</td>\n",
       "      <td>-60.000000</td>\n",
       "      <td>-1.000000</td>\n",
       "      <td>-1.000000</td>\n",
       "      <td>-1.000000</td>\n",
       "      <td>-1.000000</td>\n",
       "      <td>-1.000000</td>\n",
       "      <td>0.000000</td>\n",
       "      <td>0.000000</td>\n",
       "      <td>0.000000</td>\n",
       "      <td>0.000000</td>\n",
       "      <td>0.000000</td>\n",
       "      <td>0.000000</td>\n",
       "      <td>0.000000</td>\n",
       "    </tr>\n",
       "    <tr>\n",
       "      <th>25%</th>\n",
       "      <td>0.463000</td>\n",
       "      <td>0.451000</td>\n",
       "      <td>-10.685000</td>\n",
       "      <td>0.034000</td>\n",
       "      <td>0.027800</td>\n",
       "      <td>0.000000</td>\n",
       "      <td>0.093700</td>\n",
       "      <td>0.318000</td>\n",
       "      <td>0.103996</td>\n",
       "      <td>0.482013</td>\n",
       "      <td>0.495556</td>\n",
       "      <td>0.000088</td>\n",
       "      <td>0.144181</td>\n",
       "      <td>0.041985</td>\n",
       "      <td>0.404357</td>\n",
       "    </tr>\n",
       "    <tr>\n",
       "      <th>50%</th>\n",
       "      <td>0.587000</td>\n",
       "      <td>0.636000</td>\n",
       "      <td>-7.480000</td>\n",
       "      <td>0.045800</td>\n",
       "      <td>0.171000</td>\n",
       "      <td>0.000016</td>\n",
       "      <td>0.126000</td>\n",
       "      <td>0.523000</td>\n",
       "      <td>0.224729</td>\n",
       "      <td>0.574808</td>\n",
       "      <td>0.632000</td>\n",
       "      <td>0.005719</td>\n",
       "      <td>0.183238</td>\n",
       "      <td>0.056234</td>\n",
       "      <td>0.523500</td>\n",
       "    </tr>\n",
       "    <tr>\n",
       "      <th>75%</th>\n",
       "      <td>0.705000</td>\n",
       "      <td>0.802000</td>\n",
       "      <td>-5.406500</td>\n",
       "      <td>0.085000</td>\n",
       "      <td>0.515000</td>\n",
       "      <td>0.004090</td>\n",
       "      <td>0.242000</td>\n",
       "      <td>0.731000</td>\n",
       "      <td>0.446719</td>\n",
       "      <td>0.669625</td>\n",
       "      <td>0.740000</td>\n",
       "      <td>0.070424</td>\n",
       "      <td>0.230220</td>\n",
       "      <td>0.095205</td>\n",
       "      <td>0.641806</td>\n",
       "    </tr>\n",
       "    <tr>\n",
       "      <th>max</th>\n",
       "      <td>0.988000</td>\n",
       "      <td>1.000000</td>\n",
       "      <td>1.342000</td>\n",
       "      <td>0.957000</td>\n",
       "      <td>0.996000</td>\n",
       "      <td>1.000000</td>\n",
       "      <td>1.000000</td>\n",
       "      <td>1.000000</td>\n",
       "      <td>0.996000</td>\n",
       "      <td>0.986000</td>\n",
       "      <td>1.000000</td>\n",
       "      <td>1.000000</td>\n",
       "      <td>0.991000</td>\n",
       "      <td>0.945000</td>\n",
       "      <td>0.991000</td>\n",
       "    </tr>\n",
       "  </tbody>\n",
       "</table>\n",
       "</div>"
      ],
      "text/plain": [
       "       danceability        energy      loudness   speechiness  acousticness  \\\n",
       "count  65795.000000  65795.000000  65795.000000  65795.000000  65795.000000   \n",
       "mean       0.576662      0.609946     -8.681578      0.084355      0.294222   \n",
       "std        0.174625      0.238326      4.897527      0.094974      0.307060   \n",
       "min       -1.000000     -1.000000    -60.000000     -1.000000     -1.000000   \n",
       "25%        0.463000      0.451000    -10.685000      0.034000      0.027800   \n",
       "50%        0.587000      0.636000     -7.480000      0.045800      0.171000   \n",
       "75%        0.705000      0.802000     -5.406500      0.085000      0.515000   \n",
       "max        0.988000      1.000000      1.342000      0.957000      0.996000   \n",
       "\n",
       "       instrumentalness      liveness       valence  acousticness_artist  \\\n",
       "count      65795.000000  65795.000000  65795.000000         65795.000000   \n",
       "mean           0.086966      0.191483      0.521332             0.306189   \n",
       "std            0.234716      0.162748      0.257017             0.260863   \n",
       "min           -1.000000     -1.000000     -1.000000             0.000000   \n",
       "25%            0.000000      0.093700      0.318000             0.103996   \n",
       "50%            0.000016      0.126000      0.523000             0.224729   \n",
       "75%            0.004090      0.242000      0.731000             0.446719   \n",
       "max            1.000000      1.000000      1.000000             0.996000   \n",
       "\n",
       "       danceability_artist  energy_artist  instrumentalness_artist  \\\n",
       "count         65795.000000   65795.000000             65795.000000   \n",
       "mean              0.571876       0.606332                 0.094052   \n",
       "std               0.139913       0.196086                 0.203391   \n",
       "min               0.000000       0.000000                 0.000000   \n",
       "25%               0.482013       0.495556                 0.000088   \n",
       "50%               0.574808       0.632000                 0.005719   \n",
       "75%               0.669625       0.740000                 0.070424   \n",
       "max               0.986000       1.000000                 1.000000   \n",
       "\n",
       "       liveness_artist  speechiness_artist  valence_artist  \n",
       "count     65795.000000        65795.000000    65795.000000  \n",
       "mean          0.196960            0.086035        0.521741  \n",
       "std           0.087630            0.076547        0.187102  \n",
       "min           0.000000            0.000000        0.000000  \n",
       "25%           0.144181            0.041985        0.404357  \n",
       "50%           0.183238            0.056234        0.523500  \n",
       "75%           0.230220            0.095205        0.641806  \n",
       "max           0.991000            0.945000        0.991000  "
      ]
     },
     "execution_count": 7,
     "metadata": {},
     "output_type": "execute_result"
    }
   ],
   "source": [
    "Songs_df1.describe()"
   ]
  },
  {
   "cell_type": "code",
   "execution_count": 8,
   "id": "92a30b2d",
   "metadata": {},
   "outputs": [
    {
     "data": {
      "text/plain": [
       "name                           0\n",
       "artist                         2\n",
       "spotify_id                     1\n",
       "preview                    18397\n",
       "img                            4\n",
       "danceability                   0\n",
       "energy                         0\n",
       "loudness                       0\n",
       "speechiness                    0\n",
       "acousticness                   0\n",
       "instrumentalness               0\n",
       "liveness                       0\n",
       "valence                        0\n",
       "acousticness_artist            0\n",
       "danceability_artist            0\n",
       "energy_artist                  0\n",
       "instrumentalness_artist        0\n",
       "liveness_artist                0\n",
       "speechiness_artist             0\n",
       "valence_artist                 0\n",
       "dtype: int64"
      ]
     },
     "execution_count": 8,
     "metadata": {},
     "output_type": "execute_result"
    }
   ],
   "source": [
    "Songs_df1.isnull().sum()"
   ]
  },
  {
   "cell_type": "code",
   "execution_count": 9,
   "id": "46edf360",
   "metadata": {},
   "outputs": [],
   "source": [
    "Songs_df1.dropna(subset=['artist'], inplace=True)\n",
    "Songs_df1.drop(columns=['spotify_id', 'preview'], inplace=True)"
   ]
  },
  {
   "cell_type": "code",
   "execution_count": 10,
   "id": "cc6cfc6e",
   "metadata": {},
   "outputs": [
    {
     "name": "stdout",
     "output_type": "stream",
     "text": [
      "name                       0\n",
      "artist                     0\n",
      "img                        2\n",
      "danceability               0\n",
      "energy                     0\n",
      "loudness                   0\n",
      "speechiness                0\n",
      "acousticness               0\n",
      "instrumentalness           0\n",
      "liveness                   0\n",
      "valence                    0\n",
      "acousticness_artist        0\n",
      "danceability_artist        0\n",
      "energy_artist              0\n",
      "instrumentalness_artist    0\n",
      "liveness_artist            0\n",
      "speechiness_artist         0\n",
      "valence_artist             0\n",
      "dtype: int64\n"
     ]
    }
   ],
   "source": [
    "print(Songs_df1.isnull().sum())"
   ]
  },
  {
   "cell_type": "code",
   "execution_count": 11,
   "id": "3d36b169",
   "metadata": {},
   "outputs": [],
   "source": [
    "import matplotlib.pyplot as plt"
   ]
  },
  {
   "cell_type": "code",
   "execution_count": 12,
   "id": "ff94bc4e",
   "metadata": {},
   "outputs": [],
   "source": [
    "danceability = Songs_df1['danceability']\n",
    "energy = Songs_df1['energy']\n",
    "loudness = Songs_df1['loudness']\n",
    "speechiness = Songs_df1['speechiness']\n",
    "acousticness = Songs_df1['acousticness']\n",
    "instrumentalness = Songs_df1['instrumentalness']\n",
    "liveness = Songs_df1['liveness']\n",
    "valence = Songs_df1['valence']"
   ]
  },
  {
   "cell_type": "code",
   "execution_count": 13,
   "id": "c3ff20ef",
   "metadata": {},
   "outputs": [
    {
     "data": {
      "image/png": "[encoded data removed]",
      "text/plain": [
       "<Figure size 1200x1000 with 8 Axes>"
      ]
     },
     "metadata": {},
     "output_type": "display_data"
    }
   ],
   "source": [
    "# Histogram for danceability\n",
    "plt.figure(figsize=(12, 10))\n",
    "plt.subplot(2, 4, 1)\n",
    "plt.hist(danceability, bins=20,color='skyblue',edgecolor='black')\n",
    "plt.title('Distribution of Danceability')\n",
    "plt.xlabel('Danceability')\n",
    "plt.ylabel('Frequency')\n",
    "\n",
    "# Histogram for Energy\n",
    "plt.subplot(2, 4, 2)\n",
    "plt.hist(energy, bins=20,color='lightcoral',edgecolor='black')\n",
    "plt.title('Distribution of Energy')\n",
    "plt.xlabel('Energy')\n",
    "plt.ylabel('Frequency')\n",
    "\n",
    "# Histogram for Loudness\n",
    "plt.subplot(2, 4, 3)\n",
    "plt.hist(loudness, bins=20, color='lightgreen', edgecolor='black')\n",
    "plt.title('Distribution of Loudness')\n",
    "plt.xlabel('Loudness (dB)')\n",
    "plt.ylabel('Frequency')\n",
    "\n",
    "# Histogram for Speechiness\n",
    "plt.subplot(2, 4, 4)\n",
    "plt.hist(speechiness, bins=20, color='lightblue', edgecolor='black')\n",
    "plt.title('Distribution of Speechiness')\n",
    "plt.xlabel('Speechiness')\n",
    "plt.ylabel('Frequency')\n",
    "\n",
    "# Histogram for Acousticness\n",
    "plt.subplot(2, 4,5)\n",
    "plt.hist(acousticness, bins=20, color='lightcoral', edgecolor='black')\n",
    "plt.title('Distribution of Acousticness')\n",
    "plt.xlabel('Acousticness')\n",
    "plt.ylabel('Frequency')\n",
    "\n",
    "# Histogram for Instrumentalness\n",
    "plt.subplot(2,4, 6)\n",
    "plt.hist(instrumentalness, bins=20, color='lightgreen', edgecolor='black')\n",
    "plt.title('Distribution of Instrumentalness')\n",
    "plt.xlabel('Instrumentalness')\n",
    "plt.ylabel('Frequency')\n",
    "\n",
    "# Histogram for Liveness\n",
    "plt.subplot(2,4,7)\n",
    "plt.hist(liveness, bins=20, color='lightblue', edgecolor='black')\n",
    "plt.title('Distribution of Liveness')\n",
    "plt.xlabel('Liveness')\n",
    "plt.ylabel('Frequency')\n",
    "\n",
    "# Histogram for Valence\n",
    "plt.subplot(2, 4,8)\n",
    "plt.hist(valence, bins=20, color='lightcoral', edgecolor='black')\n",
    "plt.title('Distribution of Valence')\n",
    "plt.xlabel('Valence')\n",
    "plt.ylabel('Frequency')\n",
    "\n",
    "plt.tight_layout()\n",
    "plt.show()"
   ]
  },
  {
   "cell_type": "code",
   "execution_count": 14,
   "id": "3aafb8cf",
   "metadata": {},
   "outputs": [],
   "source": [
    "from sklearn.preprocessing import StandardScaler\n",
    "from sklearn.neighbors import NearestNeighbors"
   ]
  },
  {
   "cell_type": "code",
   "execution_count": 15,
   "id": "ece9fa58",
   "metadata": {},
   "outputs": [],
   "source": [
    "selected_features = ['danceability', 'energy', 'loudness', 'speechiness', 'acousticness',\n",
    "                     'instrumentalness', 'liveness', 'valence', 'acousticness_artist',\n",
    "                     'danceability_artist', 'energy_artist', 'instrumentalness_artist',\n",
    "                     'liveness_artist', 'speechiness_artist', 'valence_artist']"
   ]
  },
  {
   "cell_type": "code",
   "execution_count": 16,
   "id": "8c0f1042",
   "metadata": {},
   "outputs": [],
   "source": [
    "scaler =StandardScaler()\n",
    "Songs_df1[selected_features] =scaler.fit_transform(Songs_df1[selected_features])"
   ]
  },
  {
   "cell_type": "code",
   "execution_count": 17,
   "id": "ef400b8c",
   "metadata": {},
   "outputs": [],
   "source": [
    "nn_model = NearestNeighbors(n_neighbors=6, metric='cosine')"
   ]
  },
  {
   "cell_type": "code",
   "execution_count": 18,
   "id": "f5f48adb",
   "metadata": {},
   "outputs": [
    {
     "data": {
      "text/html": [
       "<style>#sk-container-id-1 {color: black;}#sk-container-id-1 pre{padding: 0;}#sk-container-id-1 div.sk-toggleable {background-color: white;}#sk-container-id-1 label.sk-toggleable__label {cursor: pointer;display: block;width: 100%;margin-bottom: 0;padding: 0.3em;box-sizing: border-box;text-align: center;}#sk-container-id-1 label.sk-toggleable__label-arrow:before {content: \"▸\";float: left;margin-right: 0.25em;color: #696969;}#sk-container-id-1 label.sk-toggleable__label-arrow:hover:before {color: black;}#sk-container-id-1 div.sk-estimator:hover label.sk-toggleable__label-arrow:before {color: black;}#sk-container-id-1 div.sk-toggleable__content {max-height: 0;max-width: 0;overflow: hidden;text-align: left;background-color: #f0f8ff;}#sk-container-id-1 div.sk-toggleable__content pre {margin: 0.2em;color: black;border-radius: 0.25em;background-color: #f0f8ff;}#sk-container-id-1 input.sk-toggleable__control:checked~div.sk-toggleable__content {max-height: 200px;max-width: 100%;overflow: auto;}#sk-container-id-1 input.sk-toggleable__control:checked~label.sk-toggleable__label-arrow:before {content: \"▾\";}#sk-container-id-1 div.sk-estimator input.sk-toggleable__control:checked~label.sk-toggleable__label {background-color: #d4ebff;}#sk-container-id-1 div.sk-label input.sk-toggleable__control:checked~label.sk-toggleable__label {background-color: #d4ebff;}#sk-container-id-1 input.sk-hidden--visually {border: 0;clip: rect(1px 1px 1px 1px);clip: rect(1px, 1px, 1px, 1px);height: 1px;margin: -1px;overflow: hidden;padding: 0;position: absolute;width: 1px;}#sk-container-id-1 div.sk-estimator {font-family: monospace;background-color: #f0f8ff;border: 1px dotted black;border-radius: 0.25em;box-sizing: border-box;margin-bottom: 0.5em;}#sk-container-id-1 div.sk-estimator:hover {background-color: #d4ebff;}#sk-container-id-1 div.sk-parallel-item::after {content: \"\";width: 100%;border-bottom: 1px solid gray;flex-grow: 1;}#sk-container-id-1 div.sk-label:hover label.sk-toggleable__label {background-color: #d4ebff;}#sk-container-id-1 div.sk-serial::before {content: \"\";position: absolute;border-left: 1px solid gray;box-sizing: border-box;top: 0;bottom: 0;left: 50%;z-index: 0;}#sk-container-id-1 div.sk-serial {display: flex;flex-direction: column;align-items: center;background-color: white;padding-right: 0.2em;padding-left: 0.2em;position: relative;}#sk-container-id-1 div.sk-item {position: relative;z-index: 1;}#sk-container-id-1 div.sk-parallel {display: flex;align-items: stretch;justify-content: center;background-color: white;position: relative;}#sk-container-id-1 div.sk-item::before, #sk-container-id-1 div.sk-parallel-item::before {content: \"\";position: absolute;border-left: 1px solid gray;box-sizing: border-box;top: 0;bottom: 0;left: 50%;z-index: -1;}#sk-container-id-1 div.sk-parallel-item {display: flex;flex-direction: column;z-index: 1;position: relative;background-color: white;}#sk-container-id-1 div.sk-parallel-item:first-child::after {align-self: flex-end;width: 50%;}#sk-container-id-1 div.sk-parallel-item:last-child::after {align-self: flex-start;width: 50%;}#sk-container-id-1 div.sk-parallel-item:only-child::after {width: 0;}#sk-container-id-1 div.sk-dashed-wrapped {border: 1px dashed gray;margin: 0 0.4em 0.5em 0.4em;box-sizing: border-box;padding-bottom: 0.4em;background-color: white;}#sk-container-id-1 div.sk-label label {font-family: monospace;font-weight: bold;display: inline-block;line-height: 1.2em;}#sk-container-id-1 div.sk-label-container {text-align: center;}#sk-container-id-1 div.sk-container {/* jupyter's `normalize.less` sets `[hidden] { display: none; }` but bootstrap.min.css set `[hidden] { display: none !important; }` so we also need the `!important` here to be able to override the default hidden behavior on the sphinx rendered scikit-learn.org. See: https://github.com/scikit-learn/scikit-learn/issues/21755 */display: inline-block !important;position: relative;}#sk-container-id-1 div.sk-text-repr-fallback {display: none;}</style><div id=\"sk-container-id-1\" class=\"sk-top-container\"><div class=\"sk-text-repr-fallback\"><pre>NearestNeighbors(metric=&#x27;cosine&#x27;, n_neighbors=6)</pre><b>In a Jupyter environment, please rerun this cell to show the HTML representation or trust the notebook. <br />On GitHub, the HTML representation is unable to render, please try loading this page with nbviewer.org.</b></div><div class=\"sk-container\" hidden><div class=\"sk-item\"><div class=\"sk-estimator sk-toggleable\"><input class=\"sk-toggleable__control sk-hidden--visually\" id=\"sk-estimator-id-1\" type=\"checkbox\" checked><label for=\"sk-estimator-id-1\" class=\"sk-toggleable__label sk-toggleable__label-arrow\">NearestNeighbors</label><div class=\"sk-toggleable__content\"><pre>NearestNeighbors(metric=&#x27;cosine&#x27;, n_neighbors=6)</pre></div></div></div></div></div>"
      ],
      "text/plain": [
       "NearestNeighbors(metric='cosine', n_neighbors=6)"
      ]
     },
     "execution_count": 18,
     "metadata": {},
     "output_type": "execute_result"
    }
   ],
   "source": [
    "nn_model.fit(Songs_df1[selected_features])"
   ]
  },
  {
   "cell_type": "code",
   "execution_count": 19,
   "id": "8f8edeb7",
   "metadata": {},
   "outputs": [],
   "source": [
    "example_song_name = \"Blinding Lights\""
   ]
  },
  {
   "cell_type": "code",
   "execution_count": 20,
   "id": "9f50da72",
   "metadata": {},
   "outputs": [],
   "source": [
    "song_index = Songs_df1[Songs_df1['name'] == example_song_name].index[0]"
   ]
  },
  {
   "cell_type": "code",
   "execution_count": 21,
   "id": "ecf3754b",
   "metadata": {},
   "outputs": [],
   "source": [
    "example_song_features = Songs_df1.iloc[song_index][selected_features].values"
   ]
  },
  {
   "cell_type": "code",
   "execution_count": 22,
   "id": "37769d97",
   "metadata": {},
   "outputs": [
    {
     "name": "stderr",
     "output_type": "stream",
     "text": [
      "c:\\Users\\tarun\\anaconda3\\Lib\\site-packages\\sklearn\\base.py:464: UserWarning: X does not have valid feature names, but NearestNeighbors was fitted with feature names\n",
      "  warnings.warn(\n"
     ]
    }
   ],
   "source": [
    "distances, indices = nn_model.kneighbors([example_song_features])"
   ]
  },
  {
   "cell_type": "code",
   "execution_count": 23,
   "id": "fc1f9f3d",
   "metadata": {},
   "outputs": [],
   "source": [
    "recommended_song_indices = [  idx for idx in indices[0]\n",
    "                                   if idx != song_index  ]\n"
   ]
  },
  {
   "cell_type": "code",
   "execution_count": 24,
   "id": "7e9e6da2",
   "metadata": {},
   "outputs": [],
   "source": [
    "recommended_songs = Songs_df1.iloc[recommended_song_indices]"
   ]
  },
  {
   "cell_type": "code",
   "execution_count": 25,
   "id": "7d7094ee",
   "metadata": {},
   "outputs": [
    {
     "name": "stdout",
     "output_type": "stream",
     "text": [
      "Recommended Songs:\n",
      "Belong To The World by The Weeknd\n",
      "The Birds Pt. 1 by The Weeknd\n",
      "Honestly by Lil Peep\n",
      "Ordinary Life by The Weeknd\n",
      "Heaven Or Las Vegas by The Weeknd\n"
     ]
    }
   ],
   "source": [
    "print(\"Recommended Songs:\")\n",
    "for _, song in recommended_songs[['name', 'artist']].iterrows():\n",
    "    print(f\"{song['name']} by {song['artist']}\")"
   ]
  },
  {
   "cell_type": "code",
   "execution_count": 26,
   "id": "e9797ef8",
   "metadata": {},
   "outputs": [],
   "source": [
    "import pickle\n",
    "pickle.dump(Songs_df1, open('Songs_df1.pkl', 'wb'))\n",
    "pickle.dump(selected_features,open('selected_features.pkl', 'wb'))"
   ]
  },
  {
   "cell_type": "code",
   "execution_count": null,
   "id": "ddf280b6",
   "metadata": {},
   "outputs": [],
   "source": []
  }
 ],
 "metadata": {
  "kernelspec": {
   "display_name": "Python 3 (ipykernel)",
   "language": "python",
   "name": "python3"
  },
  "language_info": {
   "codemirror_mode": {
    "name": "ipython",
    "version": 3
   },
   "file_extension": ".py",
   "mimetype": "text/x-python",
   "name": "python",
   "nbconvert_exporter": "python",
   "pygments_lexer": "ipython3",
   "version": "3.11.4"
  }
 },
 "nbformat": 4,
 "nbformat_minor": 5
}
